{
  "nbformat": 4,
  "nbformat_minor": 0,
  "metadata": {
    "colab": {
      "provenance": [],
      "collapsed_sections": []
    },
    "kernelspec": {
      "name": "python3",
      "display_name": "Python 3"
    },
    "language_info": {
      "name": "python"
    }
  },
  "cells": [
    {
      "cell_type": "markdown",
      "source": [
        "1. Buatlah sebuah script python yang dapat membuat elips menggunakan **Midpoint Algoritm** dari beberapa titik yang diinput melalui keyboard oleh user! Anda perlu memperhatikan dan menangani setiap kemungkinan yang dapat di input user agar tidak terjadi error pada program.\n",
        "\n"
      ],
      "metadata": {
        "id": "zEvCnOiNj-qx"
      }
    },
    {
      "cell_type": "code",
      "source": [
        "import matplotlib.pyplot as plt"
      ],
      "metadata": {
        "id": "a-8gvv4-iaEJ"
      },
      "execution_count": null,
      "outputs": []
    },
    {
      "cell_type": "code",
      "source": [
        "def algoritma_elips(rx, ry, xc, yc):\n",
        " \n",
        "    coor_x=[] #nilai x,y\n",
        "    coor_x1=[] #nilai -x,y\n",
        "    coor_y=[] #nilai y,x \n",
        "    coor_y1=[] #nilai -y,x\n",
        "    coor_p=[] #nilai append p\n",
        "\n",
        "    #region 1\n",
        "    p1 = 0\n",
        "    x = 0\n",
        "    y = ry\n",
        "    dx = 2 * ry * ry * x;\n",
        "    dy = 2 * rx * rx * y;\n",
        "    \n",
        "    coor_x.append(x)\n",
        "    coor_x1.append(-x)\n",
        "    coor_y.append(y)\n",
        "    coor_y1.append(-y)\n",
        "    coor_p.append(p1)\n",
        "    p1 = p1 + ((ry * ry) - (rx * rx * ry) + (0.25 * rx * rx));\n",
        "    while (dx < dy):\n",
        "        print(p1,\"\\t\",\"\\t\",\"(\", x , \",\", y , \")\", \"\\t\",dx,\"\\t\", dy);\n",
        "        print(p1,\"\\t\",\"\\t\",\"(\", -x, \",\", y , \")\", \"\\t\",dx,\"\\t\", dy);\n",
        "        print(p1,\"\\t\",\"\\t\",\"(\", -x, \",\", -y , \")\", \"\\t\",dx,\"\\t\", dy);\n",
        "        print(p1,\"\\t\",\"\\t\",\"(\", x, \",\", -y, \")\", \"\\t\",dx,\"\\t\", dy);\n",
        "\n",
        "        if (p1 < 0):\n",
        "            x += 1;\n",
        "            dx = dx + (2 * ry * ry);\n",
        "            p1 = p1 + dx + 3*(ry * ry);\n",
        "            coor_x.append(x)\n",
        "            coor_x1.append(-x)\n",
        "            coor_y.append(y)\n",
        "            coor_y1.append(-y)\n",
        "            coor_p.append(p1)\n",
        "        else:\n",
        "            x += 1;\n",
        "            y -= 1;\n",
        "            dx = dx + (2 * ry * ry);\n",
        "            dy = dy - (2 * rx * rx);\n",
        "            p1 = p1 + dx - dy + 3*(ry * ry) + 2*(rx*rx);\n",
        "            coor_x.append(x)\n",
        "            coor_x1.append(-x)\n",
        "            coor_y.append(y)\n",
        "            coor_y1.append(-y)\n",
        "            coor_p.append(p1)\n",
        "\n",
        "    # region 2\n",
        "    p2 = (((ry * ry) * ((x + 0.5) * (x + 0.5))) +\n",
        "          ((rx * rx) * ((y - 1) * (y - 1))) -\n",
        "           (rx * rx * ry * ry));\n",
        " \n",
        "    while (y >= 0):\n",
        "\n",
        "        print(p2,\"\\t\",\"\\t\",\"(\", x + xc, \",\", y + yc, \")\", \"\\t\",dx,\"\\t\", dy);\n",
        "        print(p2,\"\\t\",\"\\t\",\"(\", -x, \",\", y, \")\", \"\\t\",dx,\"\\t\", dy);\n",
        "        print(p2,\"\\t\",\"\\t\",\"(\", -x, \",\", -y, \")\", \"\\t\",dx,\"\\t\", dy);\n",
        "        print(p2,\"\\t\",\"\\t\",\"(\", x , \",\", -y, \")\", \"\\t\",dx,\"\\t\", dy);\n",
        "\n",
        "        if (p2 > 0):\n",
        "            y -= 1;\n",
        "            dy = dy - (2 * rx * rx);\n",
        "            p2 = p2 - (rx * rx) - dy;\n",
        "            coor_x.append(x)\n",
        "            coor_x1.append(-x)\n",
        "            coor_y.append(y)\n",
        "            coor_y1.append(-y)\n",
        "            coor_p.append(p2)\n",
        "        else:\n",
        "            y -= 1;\n",
        "            x += 1;\n",
        "            dx = dx + (2 * ry * ry);\n",
        "            dy = dy - (2 * rx * rx);\n",
        "            p2 = p2 + dx - dy + 3*(rx * rx) + 2*(ry*ry);\n",
        "            coor_x.append(x)\n",
        "            coor_x1.append(-x)\n",
        "            coor_y.append(y)\n",
        "            coor_y1.append(-y)\n",
        "            coor_p.append(p2)\n",
        "\n",
        "    plt.scatter(coor_x,coor_y, color = 'red', label = 'kuadrant 1')\n",
        "    plt.scatter(coor_x1,coor_y, color = 'green', label = 'kuadrant 2')\n",
        "    plt.scatter(coor_x1,coor_y1, color = 'black', label = 'kuadrant 3')\n",
        "    plt.scatter(coor_x,coor_y1, color = 'brown', label = 'kuadrant 4')\n",
        "\n",
        "    plt.xlabel('x')\n",
        "    plt.ylabel('y')\n",
        "    plt.title('Grafik Garis')\n",
        "    plt.axis('equal')\n",
        "    plt.legend()\n",
        "    plt.grid()\n",
        "    plt.show()\n",
        "\n",
        "def input_titik():\n",
        "  while True:\n",
        "  #input titik-titik x2,y1,x2 dan y2 \n",
        "    try:\n",
        "      rx = int(input(\"x: \"))\n",
        "      ry = int(input(\"y: \"))\n",
        "      print(\"Titik Awal :\", (rx,ry))\n",
        "      xc = int(input(\"x2: \"))\n",
        "      yc = int(input(\"y2: \"))\n",
        "      print(\"Titik Akhir :\",(xc,yc))\n",
        "      break\n",
        "    except:\n",
        "      print(\"Titik yang Anda Input bukan Integer. Input Kembali!\")    \n",
        "\n",
        "  algoritma_elips(rx, ry, xc, yc)\n",
        "\n",
        "input_titik()"
      ],
      "metadata": {
        "id": "W2ULZZwDzH2A",
        "colab": {
          "base_uri": "https://localhost:8080/",
          "height": 1000
        },
        "outputId": "8c22caec-9c47-4606-b632-27fa08030ac3"
      },
      "execution_count": null,
      "outputs": [
        {
          "output_type": "stream",
          "name": "stdout",
          "text": [
            "x: 80\n",
            "y: 60\n",
            "Titik Awal : (80, 60)\n",
            "x2: 0\n",
            "y2: 0\n",
            "Titik Akhir : (0, 0)\n",
            "-378800.0 \t \t ( 0 , 60 ) \t 0 \t 768000\n",
            "-378800.0 \t \t ( 0 , 60 ) \t 0 \t 768000\n",
            "-378800.0 \t \t ( 0 , -60 ) \t 0 \t 768000\n",
            "-378800.0 \t \t ( 0 , -60 ) \t 0 \t 768000\n",
            "-360800.0 \t \t ( 1 , 60 ) \t 7200 \t 768000\n",
            "-360800.0 \t \t ( -1 , 60 ) \t 7200 \t 768000\n",
            "-360800.0 \t \t ( -1 , -60 ) \t 7200 \t 768000\n",
            "-360800.0 \t \t ( 1 , -60 ) \t 7200 \t 768000\n",
            "-335600.0 \t \t ( 2 , 60 ) \t 14400 \t 768000\n",
            "-335600.0 \t \t ( -2 , 60 ) \t 14400 \t 768000\n",
            "-335600.0 \t \t ( -2 , -60 ) \t 14400 \t 768000\n",
            "-335600.0 \t \t ( 2 , -60 ) \t 14400 \t 768000\n",
            "-303200.0 \t \t ( 3 , 60 ) \t 21600 \t 768000\n",
            "-303200.0 \t \t ( -3 , 60 ) \t 21600 \t 768000\n",
            "-303200.0 \t \t ( -3 , -60 ) \t 21600 \t 768000\n",
            "-303200.0 \t \t ( 3 , -60 ) \t 21600 \t 768000\n",
            "-263600.0 \t \t ( 4 , 60 ) \t 28800 \t 768000\n",
            "-263600.0 \t \t ( -4 , 60 ) \t 28800 \t 768000\n",
            "-263600.0 \t \t ( -4 , -60 ) \t 28800 \t 768000\n",
            "-263600.0 \t \t ( 4 , -60 ) \t 28800 \t 768000\n",
            "-216800.0 \t \t ( 5 , 60 ) \t 36000 \t 768000\n",
            "-216800.0 \t \t ( -5 , 60 ) \t 36000 \t 768000\n",
            "-216800.0 \t \t ( -5 , -60 ) \t 36000 \t 768000\n",
            "-216800.0 \t \t ( 5 , -60 ) \t 36000 \t 768000\n",
            "-162800.0 \t \t ( 6 , 60 ) \t 43200 \t 768000\n",
            "-162800.0 \t \t ( -6 , 60 ) \t 43200 \t 768000\n",
            "-162800.0 \t \t ( -6 , -60 ) \t 43200 \t 768000\n",
            "-162800.0 \t \t ( 6 , -60 ) \t 43200 \t 768000\n",
            "-101600.0 \t \t ( 7 , 60 ) \t 50400 \t 768000\n",
            "-101600.0 \t \t ( -7 , 60 ) \t 50400 \t 768000\n",
            "-101600.0 \t \t ( -7 , -60 ) \t 50400 \t 768000\n",
            "-101600.0 \t \t ( 7 , -60 ) \t 50400 \t 768000\n",
            "-33200.0 \t \t ( 8 , 60 ) \t 57600 \t 768000\n",
            "-33200.0 \t \t ( -8 , 60 ) \t 57600 \t 768000\n",
            "-33200.0 \t \t ( -8 , -60 ) \t 57600 \t 768000\n",
            "-33200.0 \t \t ( 8 , -60 ) \t 57600 \t 768000\n",
            "42400.0 \t \t ( 9 , 60 ) \t 64800 \t 768000\n",
            "42400.0 \t \t ( -9 , 60 ) \t 64800 \t 768000\n",
            "42400.0 \t \t ( -9 , -60 ) \t 64800 \t 768000\n",
            "42400.0 \t \t ( 9 , -60 ) \t 64800 \t 768000\n",
            "-617200.0 \t \t ( 10 , 59 ) \t 72000 \t 755200\n",
            "-617200.0 \t \t ( -10 , 59 ) \t 72000 \t 755200\n",
            "-617200.0 \t \t ( -10 , -59 ) \t 72000 \t 755200\n",
            "-617200.0 \t \t ( 10 , -59 ) \t 72000 \t 755200\n",
            "-527200.0 \t \t ( 11 , 59 ) \t 79200 \t 755200\n",
            "-527200.0 \t \t ( -11 , 59 ) \t 79200 \t 755200\n",
            "-527200.0 \t \t ( -11 , -59 ) \t 79200 \t 755200\n",
            "-527200.0 \t \t ( 11 , -59 ) \t 79200 \t 755200\n",
            "-430000.0 \t \t ( 12 , 59 ) \t 86400 \t 755200\n",
            "-430000.0 \t \t ( -12 , 59 ) \t 86400 \t 755200\n",
            "-430000.0 \t \t ( -12 , -59 ) \t 86400 \t 755200\n",
            "-430000.0 \t \t ( 12 , -59 ) \t 86400 \t 755200\n",
            "-325600.0 \t \t ( 13 , 59 ) \t 93600 \t 755200\n",
            "-325600.0 \t \t ( -13 , 59 ) \t 93600 \t 755200\n",
            "-325600.0 \t \t ( -13 , -59 ) \t 93600 \t 755200\n",
            "-325600.0 \t \t ( 13 , -59 ) \t 93600 \t 755200\n",
            "-214000.0 \t \t ( 14 , 59 ) \t 100800 \t 755200\n",
            "-214000.0 \t \t ( -14 , 59 ) \t 100800 \t 755200\n",
            "-214000.0 \t \t ( -14 , -59 ) \t 100800 \t 755200\n",
            "-214000.0 \t \t ( 14 , -59 ) \t 100800 \t 755200\n",
            "-95200.0 \t \t ( 15 , 59 ) \t 108000 \t 755200\n",
            "-95200.0 \t \t ( -15 , 59 ) \t 108000 \t 755200\n",
            "-95200.0 \t \t ( -15 , -59 ) \t 108000 \t 755200\n",
            "-95200.0 \t \t ( 15 , -59 ) \t 108000 \t 755200\n",
            "30800.0 \t \t ( 16 , 59 ) \t 115200 \t 755200\n",
            "30800.0 \t \t ( -16 , 59 ) \t 115200 \t 755200\n",
            "30800.0 \t \t ( -16 , -59 ) \t 115200 \t 755200\n",
            "30800.0 \t \t ( 16 , -59 ) \t 115200 \t 755200\n",
            "-565600.0 \t \t ( 17 , 58 ) \t 122400 \t 742400\n",
            "-565600.0 \t \t ( -17 , 58 ) \t 122400 \t 742400\n",
            "-565600.0 \t \t ( -17 , -58 ) \t 122400 \t 742400\n",
            "-565600.0 \t \t ( 17 , -58 ) \t 122400 \t 742400\n",
            "-425200.0 \t \t ( 18 , 58 ) \t 129600 \t 742400\n",
            "-425200.0 \t \t ( -18 , 58 ) \t 129600 \t 742400\n",
            "-425200.0 \t \t ( -18 , -58 ) \t 129600 \t 742400\n",
            "-425200.0 \t \t ( 18 , -58 ) \t 129600 \t 742400\n",
            "-277600.0 \t \t ( 19 , 58 ) \t 136800 \t 742400\n",
            "-277600.0 \t \t ( -19 , 58 ) \t 136800 \t 742400\n",
            "-277600.0 \t \t ( -19 , -58 ) \t 136800 \t 742400\n",
            "-277600.0 \t \t ( 19 , -58 ) \t 136800 \t 742400\n",
            "-122800.0 \t \t ( 20 , 58 ) \t 144000 \t 742400\n",
            "-122800.0 \t \t ( -20 , 58 ) \t 144000 \t 742400\n",
            "-122800.0 \t \t ( -20 , -58 ) \t 144000 \t 742400\n",
            "-122800.0 \t \t ( 20 , -58 ) \t 144000 \t 742400\n",
            "39200.0 \t \t ( 21 , 58 ) \t 151200 \t 742400\n",
            "39200.0 \t \t ( -21 , 58 ) \t 151200 \t 742400\n",
            "39200.0 \t \t ( -21 , -58 ) \t 151200 \t 742400\n",
            "39200.0 \t \t ( 21 , -58 ) \t 151200 \t 742400\n",
            "-508400.0 \t \t ( 22 , 57 ) \t 158400 \t 729600\n",
            "-508400.0 \t \t ( -22 , 57 ) \t 158400 \t 729600\n",
            "-508400.0 \t \t ( -22 , -57 ) \t 158400 \t 729600\n",
            "-508400.0 \t \t ( 22 , -57 ) \t 158400 \t 729600\n",
            "-332000.0 \t \t ( 23 , 57 ) \t 165600 \t 729600\n",
            "-332000.0 \t \t ( -23 , 57 ) \t 165600 \t 729600\n",
            "-332000.0 \t \t ( -23 , -57 ) \t 165600 \t 729600\n",
            "-332000.0 \t \t ( 23 , -57 ) \t 165600 \t 729600\n",
            "-148400.0 \t \t ( 24 , 57 ) \t 172800 \t 729600\n",
            "-148400.0 \t \t ( -24 , 57 ) \t 172800 \t 729600\n",
            "-148400.0 \t \t ( -24 , -57 ) \t 172800 \t 729600\n",
            "-148400.0 \t \t ( 24 , -57 ) \t 172800 \t 729600\n",
            "42400.0 \t \t ( 25 , 57 ) \t 180000 \t 729600\n",
            "42400.0 \t \t ( -25 , 57 ) \t 180000 \t 729600\n",
            "42400.0 \t \t ( -25 , -57 ) \t 180000 \t 729600\n",
            "42400.0 \t \t ( 25 , -57 ) \t 180000 \t 729600\n",
            "-463600.0 \t \t ( 26 , 56 ) \t 187200 \t 716800\n",
            "-463600.0 \t \t ( -26 , 56 ) \t 187200 \t 716800\n",
            "-463600.0 \t \t ( -26 , -56 ) \t 187200 \t 716800\n",
            "-463600.0 \t \t ( 26 , -56 ) \t 187200 \t 716800\n",
            "-258400.0 \t \t ( 27 , 56 ) \t 194400 \t 716800\n",
            "-258400.0 \t \t ( -27 , 56 ) \t 194400 \t 716800\n",
            "-258400.0 \t \t ( -27 , -56 ) \t 194400 \t 716800\n",
            "-258400.0 \t \t ( 27 , -56 ) \t 194400 \t 716800\n",
            "-46000.0 \t \t ( 28 , 56 ) \t 201600 \t 716800\n",
            "-46000.0 \t \t ( -28 , 56 ) \t 201600 \t 716800\n",
            "-46000.0 \t \t ( -28 , -56 ) \t 201600 \t 716800\n",
            "-46000.0 \t \t ( 28 , -56 ) \t 201600 \t 716800\n",
            "173600.0 \t \t ( 29 , 56 ) \t 208800 \t 716800\n",
            "173600.0 \t \t ( -29 , 56 ) \t 208800 \t 716800\n",
            "173600.0 \t \t ( -29 , -56 ) \t 208800 \t 716800\n",
            "173600.0 \t \t ( 29 , -56 ) \t 208800 \t 716800\n",
            "-290800.0 \t \t ( 30 , 55 ) \t 216000 \t 704000\n",
            "-290800.0 \t \t ( -30 , 55 ) \t 216000 \t 704000\n",
            "-290800.0 \t \t ( -30 , -55 ) \t 216000 \t 704000\n",
            "-290800.0 \t \t ( 30 , -55 ) \t 216000 \t 704000\n",
            "-56800.0 \t \t ( 31 , 55 ) \t 223200 \t 704000\n",
            "-56800.0 \t \t ( -31 , 55 ) \t 223200 \t 704000\n",
            "-56800.0 \t \t ( -31 , -55 ) \t 223200 \t 704000\n",
            "-56800.0 \t \t ( 31 , -55 ) \t 223200 \t 704000\n",
            "184400.0 \t \t ( 32 , 55 ) \t 230400 \t 704000\n",
            "184400.0 \t \t ( -32 , 55 ) \t 230400 \t 704000\n",
            "184400.0 \t \t ( -32 , -55 ) \t 230400 \t 704000\n",
            "184400.0 \t \t ( 32 , -55 ) \t 230400 \t 704000\n",
            "-245600.0 \t \t ( 33 , 54 ) \t 237600 \t 691200\n",
            "-245600.0 \t \t ( -33 , 54 ) \t 237600 \t 691200\n",
            "-245600.0 \t \t ( -33 , -54 ) \t 237600 \t 691200\n",
            "-245600.0 \t \t ( 33 , -54 ) \t 237600 \t 691200\n",
            "10000.0 \t \t ( 34 , 54 ) \t 244800 \t 691200\n",
            "10000.0 \t \t ( -34 , 54 ) \t 244800 \t 691200\n",
            "10000.0 \t \t ( -34 , -54 ) \t 244800 \t 691200\n",
            "10000.0 \t \t ( 34 , -54 ) \t 244800 \t 691200\n",
            "-392800.0 \t \t ( 35 , 53 ) \t 252000 \t 678400\n",
            "-392800.0 \t \t ( -35 , 53 ) \t 252000 \t 678400\n",
            "-392800.0 \t \t ( -35 , -53 ) \t 252000 \t 678400\n",
            "-392800.0 \t \t ( 35 , -53 ) \t 252000 \t 678400\n",
            "-122800.0 \t \t ( 36 , 53 ) \t 259200 \t 678400\n",
            "-122800.0 \t \t ( -36 , 53 ) \t 259200 \t 678400\n",
            "-122800.0 \t \t ( -36 , -53 ) \t 259200 \t 678400\n",
            "-122800.0 \t \t ( 36 , -53 ) \t 259200 \t 678400\n",
            "154400.0 \t \t ( 37 , 53 ) \t 266400 \t 678400\n",
            "154400.0 \t \t ( -37 , 53 ) \t 266400 \t 678400\n",
            "154400.0 \t \t ( -37 , -53 ) \t 266400 \t 678400\n",
            "154400.0 \t \t ( 37 , -53 ) \t 266400 \t 678400\n",
            "-214000.0 \t \t ( 38 , 52 ) \t 273600 \t 665600\n",
            "-214000.0 \t \t ( -38 , 52 ) \t 273600 \t 665600\n",
            "-214000.0 \t \t ( -38 , -52 ) \t 273600 \t 665600\n",
            "-214000.0 \t \t ( 38 , -52 ) \t 273600 \t 665600\n",
            "77600.0 \t \t ( 39 , 52 ) \t 280800 \t 665600\n",
            "77600.0 \t \t ( -39 , 52 ) \t 280800 \t 665600\n",
            "77600.0 \t \t ( -39 , -52 ) \t 280800 \t 665600\n",
            "77600.0 \t \t ( 39 , -52 ) \t 280800 \t 665600\n",
            "-263600.0 \t \t ( 40 , 51 ) \t 288000 \t 652800\n",
            "-263600.0 \t \t ( -40 , 51 ) \t 288000 \t 652800\n",
            "-263600.0 \t \t ( -40 , -51 ) \t 288000 \t 652800\n",
            "-263600.0 \t \t ( 40 , -51 ) \t 288000 \t 652800\n",
            "42400.0 \t \t ( 41 , 51 ) \t 295200 \t 652800\n",
            "42400.0 \t \t ( -41 , 51 ) \t 295200 \t 652800\n",
            "42400.0 \t \t ( -41 , -51 ) \t 295200 \t 652800\n",
            "42400.0 \t \t ( 41 , -51 ) \t 295200 \t 652800\n",
            "-271600.0 \t \t ( 42 , 50 ) \t 302400 \t 640000\n",
            "-271600.0 \t \t ( -42 , 50 ) \t 302400 \t 640000\n",
            "-271600.0 \t \t ( -42 , -50 ) \t 302400 \t 640000\n",
            "-271600.0 \t \t ( 42 , -50 ) \t 302400 \t 640000\n",
            "48800.0 \t \t ( 43 , 50 ) \t 309600 \t 640000\n",
            "48800.0 \t \t ( -43 , 50 ) \t 309600 \t 640000\n",
            "48800.0 \t \t ( -43 , -50 ) \t 309600 \t 640000\n",
            "48800.0 \t \t ( 43 , -50 ) \t 309600 \t 640000\n",
            "-238000.0 \t \t ( 44 , 49 ) \t 316800 \t 627200\n",
            "-238000.0 \t \t ( -44 , 49 ) \t 316800 \t 627200\n",
            "-238000.0 \t \t ( -44 , -49 ) \t 316800 \t 627200\n",
            "-238000.0 \t \t ( 44 , -49 ) \t 316800 \t 627200\n",
            "96800.0 \t \t ( 45 , 49 ) \t 324000 \t 627200\n",
            "96800.0 \t \t ( -45 , 49 ) \t 324000 \t 627200\n",
            "96800.0 \t \t ( -45 , -49 ) \t 324000 \t 627200\n",
            "96800.0 \t \t ( 45 , -49 ) \t 324000 \t 627200\n",
            "-162800.0 \t \t ( 46 , 48 ) \t 331200 \t 614400\n",
            "-162800.0 \t \t ( -46 , 48 ) \t 331200 \t 614400\n",
            "-162800.0 \t \t ( -46 , -48 ) \t 331200 \t 614400\n",
            "-162800.0 \t \t ( 46 , -48 ) \t 331200 \t 614400\n",
            "186400.0 \t \t ( 47 , 48 ) \t 338400 \t 614400\n",
            "186400.0 \t \t ( -47 , 48 ) \t 338400 \t 614400\n",
            "186400.0 \t \t ( -47 , -48 ) \t 338400 \t 614400\n",
            "186400.0 \t \t ( 47 , -48 ) \t 338400 \t 614400\n",
            "-46000.0 \t \t ( 48 , 47 ) \t 345600 \t 601600\n",
            "-46000.0 \t \t ( -48 , 47 ) \t 345600 \t 601600\n",
            "-46000.0 \t \t ( -48 , -47 ) \t 345600 \t 601600\n",
            "-46000.0 \t \t ( 48 , -47 ) \t 345600 \t 601600\n",
            "317600.0 \t \t ( 49 , 47 ) \t 352800 \t 601600\n",
            "317600.0 \t \t ( -49 , 47 ) \t 352800 \t 601600\n",
            "317600.0 \t \t ( -49 , -47 ) \t 352800 \t 601600\n",
            "317600.0 \t \t ( 49 , -47 ) \t 352800 \t 601600\n",
            "112400.0 \t \t ( 50 , 46 ) \t 360000 \t 588800\n",
            "112400.0 \t \t ( -50 , 46 ) \t 360000 \t 588800\n",
            "112400.0 \t \t ( -50 , -46 ) \t 360000 \t 588800\n",
            "112400.0 \t \t ( 50 , -46 ) \t 360000 \t 588800\n",
            "-72800.0 \t \t ( 51 , 45 ) \t 367200 \t 576000\n",
            "-72800.0 \t \t ( -51 , 45 ) \t 367200 \t 576000\n",
            "-72800.0 \t \t ( -51 , -45 ) \t 367200 \t 576000\n",
            "-72800.0 \t \t ( 51 , -45 ) \t 367200 \t 576000\n",
            "312400.0 \t \t ( 52 , 45 ) \t 374400 \t 576000\n",
            "312400.0 \t \t ( -52 , 45 ) \t 374400 \t 576000\n",
            "312400.0 \t \t ( -52 , -45 ) \t 374400 \t 576000\n",
            "312400.0 \t \t ( 52 , -45 ) \t 374400 \t 576000\n",
            "154400.0 \t \t ( 53 , 44 ) \t 381600 \t 563200\n",
            "154400.0 \t \t ( -53 , 44 ) \t 381600 \t 563200\n",
            "154400.0 \t \t ( -53 , -44 ) \t 381600 \t 563200\n",
            "154400.0 \t \t ( 53 , -44 ) \t 381600 \t 563200\n",
            "16400.0 \t \t ( 54 , 43 ) \t 388800 \t 550400\n",
            "16400.0 \t \t ( -54 , 43 ) \t 388800 \t 550400\n",
            "16400.0 \t \t ( -54 , -43 ) \t 388800 \t 550400\n",
            "16400.0 \t \t ( 54 , -43 ) \t 388800 \t 550400\n",
            "-101600.0 \t \t ( 55 , 42 ) \t 396000 \t 537600\n",
            "-101600.0 \t \t ( -55 , 42 ) \t 396000 \t 537600\n",
            "-101600.0 \t \t ( -55 , -42 ) \t 396000 \t 537600\n",
            "-101600.0 \t \t ( 55 , -42 ) \t 396000 \t 537600\n",
            "312400.0 \t \t ( 56 , 42 ) \t 403200 \t 537600\n",
            "312400.0 \t \t ( -56 , 42 ) \t 403200 \t 537600\n",
            "312400.0 \t \t ( -56 , -42 ) \t 403200 \t 537600\n",
            "312400.0 \t \t ( 56 , -42 ) \t 403200 \t 537600\n",
            "221600.0 \t \t ( 57 , 41 ) \t 410400 \t 524800\n",
            "221600.0 \t \t ( -57 , 41 ) \t 410400 \t 524800\n",
            "221600.0 \t \t ( -57 , -41 ) \t 410400 \t 524800\n",
            "221600.0 \t \t ( 57 , -41 ) \t 410400 \t 524800\n",
            "150800.0 \t \t ( 58 , 40 ) \t 417600 \t 512000\n",
            "150800.0 \t \t ( -58 , 40 ) \t 417600 \t 512000\n",
            "150800.0 \t \t ( -58 , -40 ) \t 417600 \t 512000\n",
            "150800.0 \t \t ( 58 , -40 ) \t 417600 \t 512000\n",
            "100000.0 \t \t ( 59 , 39 ) \t 424800 \t 499200\n",
            "100000.0 \t \t ( -59 , 39 ) \t 424800 \t 499200\n",
            "100000.0 \t \t ( -59 , -39 ) \t 424800 \t 499200\n",
            "100000.0 \t \t ( 59 , -39 ) \t 424800 \t 499200\n",
            "69200.0 \t \t ( 60 , 38 ) \t 432000 \t 486400\n",
            "69200.0 \t \t ( -60 , 38 ) \t 432000 \t 486400\n",
            "69200.0 \t \t ( -60 , -38 ) \t 432000 \t 486400\n",
            "69200.0 \t \t ( 60 , -38 ) \t 432000 \t 486400\n",
            "58400.0 \t \t ( 61 , 37 ) \t 439200 \t 473600\n",
            "58400.0 \t \t ( -61 , 37 ) \t 439200 \t 473600\n",
            "58400.0 \t \t ( -61 , -37 ) \t 439200 \t 473600\n",
            "58400.0 \t \t ( 61 , -37 ) \t 439200 \t 473600\n",
            "67600.0 \t \t ( 62 , 36 ) \t 446400 \t 460800\n",
            "67600.0 \t \t ( -62 , 36 ) \t 446400 \t 460800\n",
            "67600.0 \t \t ( -62 , -36 ) \t 446400 \t 460800\n",
            "67600.0 \t \t ( 62 , -36 ) \t 446400 \t 460800\n",
            "-1125500.0 \t \t ( 63 , 35 ) \t 453600 \t 448000\n",
            "-1125500.0 \t \t ( -63 , 35 ) \t 453600 \t 448000\n",
            "-1125500.0 \t \t ( -63 , -35 ) \t 453600 \t 448000\n",
            "-1125500.0 \t \t ( 63 , -35 ) \t 453600 \t 448000\n",
            "-1073500.0 \t \t ( 64 , 34 ) \t 460800 \t 435200\n",
            "-1073500.0 \t \t ( -64 , 34 ) \t 460800 \t 435200\n",
            "-1073500.0 \t \t ( -64 , -34 ) \t 460800 \t 435200\n",
            "-1073500.0 \t \t ( 64 , -34 ) \t 460800 \t 435200\n",
            "-1001500.0 \t \t ( 65 , 33 ) \t 468000 \t 422400\n",
            "-1001500.0 \t \t ( -65 , 33 ) \t 468000 \t 422400\n",
            "-1001500.0 \t \t ( -65 , -33 ) \t 468000 \t 422400\n",
            "-1001500.0 \t \t ( 65 , -33 ) \t 468000 \t 422400\n",
            "-909500.0 \t \t ( 66 , 32 ) \t 475200 \t 409600\n",
            "-909500.0 \t \t ( -66 , 32 ) \t 475200 \t 409600\n",
            "-909500.0 \t \t ( -66 , -32 ) \t 475200 \t 409600\n",
            "-909500.0 \t \t ( 66 , -32 ) \t 475200 \t 409600\n",
            "-797500.0 \t \t ( 67 , 31 ) \t 482400 \t 396800\n",
            "-797500.0 \t \t ( -67 , 31 ) \t 482400 \t 396800\n",
            "-797500.0 \t \t ( -67 , -31 ) \t 482400 \t 396800\n",
            "-797500.0 \t \t ( 67 , -31 ) \t 482400 \t 396800\n",
            "-665500.0 \t \t ( 68 , 30 ) \t 489600 \t 384000\n",
            "-665500.0 \t \t ( -68 , 30 ) \t 489600 \t 384000\n",
            "-665500.0 \t \t ( -68 , -30 ) \t 489600 \t 384000\n",
            "-665500.0 \t \t ( 68 , -30 ) \t 489600 \t 384000\n",
            "-513500.0 \t \t ( 69 , 29 ) \t 496800 \t 371200\n",
            "-513500.0 \t \t ( -69 , 29 ) \t 496800 \t 371200\n",
            "-513500.0 \t \t ( -69 , -29 ) \t 496800 \t 371200\n",
            "-513500.0 \t \t ( 69 , -29 ) \t 496800 \t 371200\n",
            "-341500.0 \t \t ( 70 , 28 ) \t 504000 \t 358400\n",
            "-341500.0 \t \t ( -70 , 28 ) \t 504000 \t 358400\n",
            "-341500.0 \t \t ( -70 , -28 ) \t 504000 \t 358400\n",
            "-341500.0 \t \t ( 70 , -28 ) \t 504000 \t 358400\n",
            "-149500.0 \t \t ( 71 , 27 ) \t 511200 \t 345600\n",
            "-149500.0 \t \t ( -71 , 27 ) \t 511200 \t 345600\n",
            "-149500.0 \t \t ( -71 , -27 ) \t 511200 \t 345600\n",
            "-149500.0 \t \t ( 71 , -27 ) \t 511200 \t 345600\n",
            "62500.0 \t \t ( 72 , 26 ) \t 518400 \t 332800\n",
            "62500.0 \t \t ( -72 , 26 ) \t 518400 \t 332800\n",
            "62500.0 \t \t ( -72 , -26 ) \t 518400 \t 332800\n",
            "62500.0 \t \t ( 72 , -26 ) \t 518400 \t 332800\n",
            "-263900.0 \t \t ( 72 , 25 ) \t 518400 \t 320000\n",
            "-263900.0 \t \t ( -72 , 25 ) \t 518400 \t 320000\n",
            "-263900.0 \t \t ( -72 , -25 ) \t 518400 \t 320000\n",
            "-263900.0 \t \t ( 72 , -25 ) \t 518400 \t 320000\n",
            "-19100.0 \t \t ( 73 , 24 ) \t 525600 \t 307200\n",
            "-19100.0 \t \t ( -73 , 24 ) \t 525600 \t 307200\n",
            "-19100.0 \t \t ( -73 , -24 ) \t 525600 \t 307200\n",
            "-19100.0 \t \t ( 73 , -24 ) \t 525600 \t 307200\n",
            "245700.0 \t \t ( 74 , 23 ) \t 532800 \t 294400\n",
            "245700.0 \t \t ( -74 , 23 ) \t 532800 \t 294400\n",
            "245700.0 \t \t ( -74 , -23 ) \t 532800 \t 294400\n",
            "245700.0 \t \t ( 74 , -23 ) \t 532800 \t 294400\n",
            "-42300.0 \t \t ( 74 , 22 ) \t 532800 \t 281600\n",
            "-42300.0 \t \t ( -74 , 22 ) \t 532800 \t 281600\n",
            "-42300.0 \t \t ( -74 , -22 ) \t 532800 \t 281600\n",
            "-42300.0 \t \t ( 74 , -22 ) \t 532800 \t 281600\n",
            "255300.0 \t \t ( 75 , 21 ) \t 540000 \t 268800\n",
            "255300.0 \t \t ( -75 , 21 ) \t 540000 \t 268800\n",
            "255300.0 \t \t ( -75 , -21 ) \t 540000 \t 268800\n",
            "255300.0 \t \t ( 75 , -21 ) \t 540000 \t 268800\n",
            "-7100.0 \t \t ( 75 , 20 ) \t 540000 \t 256000\n",
            "-7100.0 \t \t ( -75 , 20 ) \t 540000 \t 256000\n",
            "-7100.0 \t \t ( -75 , -20 ) \t 540000 \t 256000\n",
            "-7100.0 \t \t ( 75 , -20 ) \t 540000 \t 256000\n",
            "323300.0 \t \t ( 76 , 19 ) \t 547200 \t 243200\n",
            "323300.0 \t \t ( -76 , 19 ) \t 547200 \t 243200\n",
            "323300.0 \t \t ( -76 , -19 ) \t 547200 \t 243200\n",
            "323300.0 \t \t ( 76 , -19 ) \t 547200 \t 243200\n",
            "86500.0 \t \t ( 76 , 18 ) \t 547200 \t 230400\n",
            "86500.0 \t \t ( -76 , 18 ) \t 547200 \t 230400\n",
            "86500.0 \t \t ( -76 , -18 ) \t 547200 \t 230400\n",
            "86500.0 \t \t ( 76 , -18 ) \t 547200 \t 230400\n",
            "-137500.0 \t \t ( 76 , 17 ) \t 547200 \t 217600\n",
            "-137500.0 \t \t ( -76 , 17 ) \t 547200 \t 217600\n",
            "-137500.0 \t \t ( -76 , -17 ) \t 547200 \t 217600\n",
            "-137500.0 \t \t ( 76 , -17 ) \t 547200 \t 217600\n",
            "238500.0 \t \t ( 77 , 16 ) \t 554400 \t 204800\n",
            "238500.0 \t \t ( -77 , 16 ) \t 554400 \t 204800\n",
            "238500.0 \t \t ( -77 , -16 ) \t 554400 \t 204800\n",
            "238500.0 \t \t ( 77 , -16 ) \t 554400 \t 204800\n",
            "40100.0 \t \t ( 77 , 15 ) \t 554400 \t 192000\n",
            "40100.0 \t \t ( -77 , 15 ) \t 554400 \t 192000\n",
            "40100.0 \t \t ( -77 , -15 ) \t 554400 \t 192000\n",
            "40100.0 \t \t ( 77 , -15 ) \t 554400 \t 192000\n",
            "-145500.0 \t \t ( 77 , 14 ) \t 554400 \t 179200\n",
            "-145500.0 \t \t ( -77 , 14 ) \t 554400 \t 179200\n",
            "-145500.0 \t \t ( -77 , -14 ) \t 554400 \t 179200\n",
            "-145500.0 \t \t ( 77 , -14 ) \t 554400 \t 179200\n",
            "276100.0 \t \t ( 78 , 13 ) \t 561600 \t 166400\n",
            "276100.0 \t \t ( -78 , 13 ) \t 561600 \t 166400\n",
            "276100.0 \t \t ( -78 , -13 ) \t 561600 \t 166400\n",
            "276100.0 \t \t ( 78 , -13 ) \t 561600 \t 166400\n",
            "116100.0 \t \t ( 78 , 12 ) \t 561600 \t 153600\n",
            "116100.0 \t \t ( -78 , 12 ) \t 561600 \t 153600\n",
            "116100.0 \t \t ( -78 , -12 ) \t 561600 \t 153600\n",
            "116100.0 \t \t ( 78 , -12 ) \t 561600 \t 153600\n",
            "-31100.0 \t \t ( 78 , 11 ) \t 561600 \t 140800\n",
            "-31100.0 \t \t ( -78 , 11 ) \t 561600 \t 140800\n",
            "-31100.0 \t \t ( -78 , -11 ) \t 561600 \t 140800\n",
            "-31100.0 \t \t ( 78 , -11 ) \t 561600 \t 140800\n",
            "436100.0 \t \t ( 79 , 10 ) \t 568800 \t 128000\n",
            "436100.0 \t \t ( -79 , 10 ) \t 568800 \t 128000\n",
            "436100.0 \t \t ( -79 , -10 ) \t 568800 \t 128000\n",
            "436100.0 \t \t ( 79 , -10 ) \t 568800 \t 128000\n",
            "314500.0 \t \t ( 79 , 9 ) \t 568800 \t 115200\n",
            "314500.0 \t \t ( -79 , 9 ) \t 568800 \t 115200\n",
            "314500.0 \t \t ( -79 , -9 ) \t 568800 \t 115200\n",
            "314500.0 \t \t ( 79 , -9 ) \t 568800 \t 115200\n",
            "205700.0 \t \t ( 79 , 8 ) \t 568800 \t 102400\n",
            "205700.0 \t \t ( -79 , 8 ) \t 568800 \t 102400\n",
            "205700.0 \t \t ( -79 , -8 ) \t 568800 \t 102400\n",
            "205700.0 \t \t ( 79 , -8 ) \t 568800 \t 102400\n",
            "109700.0 \t \t ( 79 , 7 ) \t 568800 \t 89600\n",
            "109700.0 \t \t ( -79 , 7 ) \t 568800 \t 89600\n",
            "109700.0 \t \t ( -79 , -7 ) \t 568800 \t 89600\n",
            "109700.0 \t \t ( 79 , -7 ) \t 568800 \t 89600\n",
            "26500.0 \t \t ( 79 , 6 ) \t 568800 \t 76800\n",
            "26500.0 \t \t ( -79 , 6 ) \t 568800 \t 76800\n",
            "26500.0 \t \t ( -79 , -6 ) \t 568800 \t 76800\n",
            "26500.0 \t \t ( 79 , -6 ) \t 568800 \t 76800\n",
            "-43900.0 \t \t ( 79 , 5 ) \t 568800 \t 64000\n",
            "-43900.0 \t \t ( -79 , 5 ) \t 568800 \t 64000\n",
            "-43900.0 \t \t ( -79 , -5 ) \t 568800 \t 64000\n",
            "-43900.0 \t \t ( 79 , -5 ) \t 568800 \t 64000\n",
            "507300.0 \t \t ( 80 , 4 ) \t 576000 \t 51200\n",
            "507300.0 \t \t ( -80 , 4 ) \t 576000 \t 51200\n",
            "507300.0 \t \t ( -80 , -4 ) \t 576000 \t 51200\n",
            "507300.0 \t \t ( 80 , -4 ) \t 576000 \t 51200\n",
            "462500.0 \t \t ( 80 , 3 ) \t 576000 \t 38400\n",
            "462500.0 \t \t ( -80 , 3 ) \t 576000 \t 38400\n",
            "462500.0 \t \t ( -80 , -3 ) \t 576000 \t 38400\n",
            "462500.0 \t \t ( 80 , -3 ) \t 576000 \t 38400\n",
            "430500.0 \t \t ( 80 , 2 ) \t 576000 \t 25600\n",
            "430500.0 \t \t ( -80 , 2 ) \t 576000 \t 25600\n",
            "430500.0 \t \t ( -80 , -2 ) \t 576000 \t 25600\n",
            "430500.0 \t \t ( 80 , -2 ) \t 576000 \t 25600\n",
            "411300.0 \t \t ( 80 , 1 ) \t 576000 \t 12800\n",
            "411300.0 \t \t ( -80 , 1 ) \t 576000 \t 12800\n",
            "411300.0 \t \t ( -80 , -1 ) \t 576000 \t 12800\n",
            "411300.0 \t \t ( 80 , -1 ) \t 576000 \t 12800\n",
            "404900.0 \t \t ( 80 , 0 ) \t 576000 \t 0\n",
            "404900.0 \t \t ( -80 , 0 ) \t 576000 \t 0\n",
            "404900.0 \t \t ( -80 , 0 ) \t 576000 \t 0\n",
            "404900.0 \t \t ( 80 , 0 ) \t 576000 \t 0\n"
          ]
        },
        {
          "output_type": "display_data",
          "data": {
            "image/png": "[encoded data removed]",
            "text/plain": [
              "<Figure size 432x288 with 1 Axes>"
            ]
          },
          "metadata": {
            "needs_background": "light"
          }
        }
      ]
    },
    {
      "cell_type": "markdown",
      "source": [
        "Dengan menggunakan titik awal (80,60) dan titik akhir (0,0), diperoleh grafik elips sebagai berikut: <br>\n",
        "![elips2.jpg](data:image/jpeg;base64,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)"
      ],
      "metadata": {
        "id": "1TLIxJBiWDGK"
      }
    },
    {
      "cell_type": "markdown",
      "source": [
        "2. Apakah *Midpoint Algortihm* dalam pembentukan ellips memiliki kekurangan? Jika iya, jelaskan alasan anda!"
      ],
      "metadata": {
        "id": "6POAw0BRiW2-"
      }
    },
    {
      "cell_type": "markdown",
      "source": [
        "Jawab : <br>\n",
        "Iya, hal ini disebabkan elips mempunyai 2 jari-jari yang berbeda dan setiap lengkungannya tidak mungkin sempurna. Namun elips akan berbentuk seperti lemon jika nilai atau titik semakin besar. Misalkan diambil seperempat bagian elips, di lengkungan seperempat bagian ini dibagi menjadi 2 region yaitu region 1 dan region 2. Region 1 mempunyai nilai gradien m>-1, sedangkan region 2 mempunyai nilai gradien m<-1. <br>\n",
        "Persamaan elips dapat ditulis: <br>\n",
        "f(x,y) = $b^2 x^2 + a^2 y^2 – a^2 b^2$\n",
        "<br>\n",
        "Dimana b adalah jari jari vertikal, dan a adalah jari jari horizontal, dan f(x,y) adalah perdiksi eror dari koordinat (x,y)\n",
        "![elips.jpeg](data:image/jpeg;base64,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)"
      ],
      "metadata": {
        "id": "BmFimCc02hXh"
      }
    },
    {
      "cell_type": "markdown",
      "source": [
        "3.   Buatlah sebuah polygon menggunakan algortima garis Bressenham! Kemudian warnai polygon tersebut menggunakan:<br>\n",
        "a.   Scan Line Algorithm <br>\n",
        "b.   Boundary Fill Algorithm <br>\n",
        "c.   Flood Fill Algortihm\n",
        "\n",
        "\n",
        "\n",
        "\n"
      ],
      "metadata": {
        "id": "dKOLjbDq3in1"
      }
    },
    {
      "cell_type": "code",
      "source": [
        "import matplotlib.pyplot as mlp\n",
        "from queue import Queue\n",
        "from PIL import Image, ImageDraw"
      ],
      "metadata": {
        "id": "VqrltDPK4Qlz"
      },
      "execution_count": null,
      "outputs": []
    },
    {
      "cell_type": "markdown",
      "source": [
        "a. **Scan Line Algoritm**"
      ],
      "metadata": {
        "id": "ayclYsRg9yQ-"
      }
    },
    {
      "cell_type": "code",
      "source": [
        "# Scan Line Algorithm \n",
        "def round(x):\n",
        "    if x - int(x) >= 0.5:\n",
        "        return int(x) + 1\n",
        "    return int(x)\n",
        "\n",
        "def ScanLine(titik):\n",
        "    n = len(titik)\n",
        "    ymax = max(p[1] for p in titik)\n",
        "    ymin = min(p[1] for p in titik)\n",
        "    GET = [[] for i in range(ymax+1)]\n",
        "\n",
        "    for i in range(n):\n",
        "        (x0, y0), (x1, y1) = titik[i], titik[(i + 1) % n]\n",
        "\n",
        "        ymax = max(y0, y1)\n",
        "        ymin = min(y0, y1)\n",
        "        if y0 == ymin:\n",
        "            x_ymin = x0\n",
        "        elif y1 == ymin:\n",
        "            x_ymin = x1\n",
        "        else:\n",
        "            print(\"Unknown error\")\n",
        "\n",
        "        if y0 == y1:\n",
        "            continue\n",
        "        if x0 == x1:\n",
        "            slope_inv = 0\n",
        "        else:\n",
        "            slope_inv = (x1 - x0) / (y1 - y0)\n",
        "\n",
        "        GET[ymin].append([ymax, x_ymin, slope_inv])\n",
        "\n",
        "    AET = []\n",
        "    coor_warna = []\n",
        "    for y in range(len(GET)):\n",
        "\n",
        "        AET += GET[y]\n",
        "        AET.sort(key = lambda x: x[1])\n",
        "        \n",
        "        if len(AET) > 0:\n",
        "            min_ = min(round(x[1]) for x in AET)\n",
        "            max_ = max(round(x[1]) for x in AET)\n",
        "\n",
        "            interpolate = list(range(min_, max_+1))\n",
        "            for x in interpolate:\n",
        "                p = (x, y)\n",
        "                if p not in coor_warna:\n",
        "                  coor_warna.append(p)\n",
        "                \n",
        "        \n",
        "        for j in range(len(AET)):\n",
        "            AET[j][1] = AET[j][1] + AET[j][2]\n",
        "\n",
        "        i = 0\n",
        "        while i < len(AET):\n",
        "            if AET[i][0] == y:\n",
        "                AET.pop(i)\n",
        "            else:\n",
        "                i += 1\n",
        "        \n",
        "    return coor_warna\n",
        "\n",
        "titik = [[14, 9], [8, 14], [24, 8], [10, 5], [11, 8]]\n",
        "warna = ScanLine(titik)\n",
        "x, y = zip(*(titik + [titik[0]]))\n",
        "wx, wy = zip(*warna)\n",
        "\n",
        "plt.scatter(wx, wy, s=250, c='blue')\n",
        "plt.plot(x, y, linewidth=4, c='black')\n",
        "plt.grid()\n",
        "plt.show()"
      ],
      "metadata": {
        "id": "Qpyh82df3ss6",
        "colab": {
          "base_uri": "https://localhost:8080/",
          "height": 265
        },
        "outputId": "273110e6-dc82-4c5a-d6aa-0685c73b8f08"
      },
      "execution_count": null,
      "outputs": [
        {
          "output_type": "display_data",
          "data": {
            "image/png": "[encoded data removed]",
            "text/plain": [
              "<Figure size 432x288 with 1 Axes>"
            ]
          },
          "metadata": {
            "needs_background": "light"
          }
        }
      ]
    },
    {
      "cell_type": "markdown",
      "source": [
        "b. **Boundary Fill Algorithm**"
      ],
      "metadata": {
        "id": "ZHHFbxuJ-AWv"
      }
    },
    {
      "cell_type": "code",
      "source": [
        "purple = (255, 255, 255)\n",
        "white = (225, 0, 0)\n",
        "black = (0,0,0)\n",
        "blue = (0, 0, 255)\n",
        "brown = (0, 255, 0)\n",
        "green = (255, 255, 0)"
      ],
      "metadata": {
        "id": "Injet_18_yWm"
      },
      "execution_count": null,
      "outputs": []
    },
    {
      "cell_type": "code",
      "source": [
        "# 4 tetangga (titik atas, bawah, kanan dan kiri)\n",
        "def boundary_fill4(img, x, y, fill_color, boundary_color):\n",
        "  titik = []\n",
        "  titik.append((x, y))\n",
        "  while titik:\n",
        "    x, y = titik.pop(0)\n",
        "    if img.getpixel((x, y)) != boundary_color and img.getpixel((x, y)) != fill_color:\n",
        "      img.putpixel((x,y), fill_color)\n",
        "      titik.append((x+1, y))\n",
        "      titik.append((x-1, y))\n",
        "      titik.append((x, y+1))\n",
        "      titik.append((x, y-1))"
      ],
      "metadata": {
        "id": "PJ2frsHliWdT"
      },
      "execution_count": null,
      "outputs": []
    },
    {
      "cell_type": "code",
      "source": [
        "img = Image.new(\"RGB\", (300, 250), purple) \n",
        "imgdraw = ImageDraw.Draw(img)\n",
        "polygon = [(100,45), (70,35), (50,80), (75,80)]\n",
        "\n",
        "imgdraw.polygon(polygon, outline = black)\n",
        "x, y = 144, 80\n",
        "boundary_fill4(img, x, y, white, black)\n",
        "img"
      ],
      "metadata": {
        "id": "cL__CCQl_hYd",
        "colab": {
          "base_uri": "https://localhost:8080/",
          "height": 267
        },
        "outputId": "5a244bda-7f42-498b-c11e-784fc76f43e1"
      },
      "execution_count": null,
      "outputs": [
        {
          "output_type": "execute_result",
          "data": {
            "image/png": "[encoded data removed]",
            "text/plain": [
              "<PIL.Image.Image image mode=RGB size=300x250 at 0x7F545ECB8450>"
            ]
          },
          "metadata": {},
          "execution_count": 58
        }
      ]
    },
    {
      "cell_type": "code",
      "source": [
        "# 8 tetangga (atas, bawah, kanan, kiri, pojok kiri atas, pojok kiri bawah, pojok kanan atas dan pojok kanan bawah)\n",
        "def boundary_fill8(img, x, y, fill_color, boundary_color):\n",
        "  titik = []\n",
        "  titik.append((x, y))\n",
        "  while titik:\n",
        "    x, y = titik.pop(0)\n",
        "    try:\n",
        "      if img.getpixel((x, y)) != boundary_color and img.getpixel((x, y)) != fill_color:\n",
        "        img.putpixel((x,y), fill_color)\n",
        "        titik.append((x+1, y))\n",
        "        titik.append((x-1, y))\n",
        "        titik.append((x, y+1))\n",
        "        titik.append((x, y-1))\n",
        "        titik.append((x+1, y+1))\n",
        "        titik.append((x+1, y-1))\n",
        "        titik.append((x-1, y+1))\n",
        "        titik.append((x-1, y-1))\n",
        "    except:\n",
        "      pass"
      ],
      "metadata": {
        "id": "2hoP5KNy-sC0"
      },
      "execution_count": null,
      "outputs": []
    },
    {
      "cell_type": "code",
      "source": [
        "img = Image.new(\"RGB\", (300, 250), purple) \n",
        "imgdraw = ImageDraw.Draw(img)\n",
        "polygon = [(100,45), (70,35), (50,80), (75,80)]\n",
        "\n",
        "imgdraw.polygon(polygon, outline = black)\n",
        "x, y = 144, 80\n",
        "boundary_fill8(img, x, y, white, black)\n",
        "img"
      ],
      "metadata": {
        "id": "WrR-tCbT_CD_",
        "colab": {
          "base_uri": "https://localhost:8080/",
          "height": 267
        },
        "outputId": "1f7ed883-49e5-4791-ba41-b814463f9783"
      },
      "execution_count": null,
      "outputs": [
        {
          "output_type": "execute_result",
          "data": {
            "image/png": "[encoded data removed]",
            "text/plain": [
              "<PIL.Image.Image image mode=RGB size=300x250 at 0x7F545ECD9150>"
            ]
          },
          "metadata": {},
          "execution_count": 59
        }
      ]
    },
    {
      "cell_type": "markdown",
      "source": [
        "c. **Flood Fill Algorithm**"
      ],
      "metadata": {
        "id": "WzLZooHaDDwY"
      }
    },
    {
      "cell_type": "code",
      "source": [
        "# 4 tetangga\n",
        "def flood_fill4(img, x, y, fill_color, old_color):\n",
        "  titik = []\n",
        "  titik.append((x, y))\n",
        "  while titik:\n",
        "    x, y = titik.pop(0)\n",
        "    if img.getpixel((x, y)) == old_color:\n",
        "      img.putpixel((x,y), fill_color)\n",
        "      titik.append((x+1, y))\n",
        "      titik.append((x-1, y))\n",
        "      titik.append((x, y+1))\n",
        "      titik.append((x, y-1))"
      ],
      "metadata": {
        "id": "MyRBFEieCeO7"
      },
      "execution_count": null,
      "outputs": []
    },
    {
      "cell_type": "code",
      "source": [
        "# 8 tetangga \n",
        "def flood_fill8(img, x, y, fill_color, old_color):\n",
        "  titik = []\n",
        "  titik.append((x, y))\n",
        "  while titik:\n",
        "    x, y = titik.pop(0)\n",
        "    if img.getpixel((x, y)) == old_color:\n",
        "      img.putpixel((x,y), fill_color)\n",
        "      titik.append((x+1, y))\n",
        "      titik.append((x-1, y))\n",
        "      titik.append((x, y+1))\n",
        "      titik.append((x, y-1))\n",
        "      titik.append((x+1, y+1))\n",
        "      titik.append((x+1, y-1))\n",
        "      titik.append((x-1, y+1))\n",
        "      titik.append((x-1, y-1))"
      ],
      "metadata": {
        "id": "bND5MEjNDQgB"
      },
      "execution_count": null,
      "outputs": []
    },
    {
      "cell_type": "code",
      "source": [
        "img = Image.new(\"RGB\", (300, 250), purple) \n",
        "imgdraw = ImageDraw.Draw(img)\n",
        "polygon = [(100,45), (70,35), (50,80), (75,80)]\n",
        "\n",
        "imgdraw.polygon(polygon, fill = green, outline = black)\n",
        "x, y = 144, 80\n",
        "flood_fill4(img, x, y, green, brown)\n",
        "img"
      ],
      "metadata": {
        "id": "4ck9uikYDeUN",
        "colab": {
          "base_uri": "https://localhost:8080/",
          "height": 267
        },
        "outputId": "55b6f66e-1a7a-4ecc-be02-64480087be03"
      },
      "execution_count": null,
      "outputs": [
        {
          "output_type": "execute_result",
          "data": {
            "image/png": "[encoded data removed]",
            "text/plain": [
              "<PIL.Image.Image image mode=RGB size=300x250 at 0x7F545EC8A350>"
            ]
          },
          "metadata": {},
          "execution_count": 63
        }
      ]
    },
    {
      "cell_type": "code",
      "source": [
        "img = Image.new(\"RGB\", (300, 250), purple) \n",
        "imgdraw = ImageDraw.Draw(img)\n",
        "polygon = [(100,45), (70,35), (50,80), (75,80)]\n",
        "\n",
        "imgdraw.polygon(polygon, fill = green, outline = black)\n",
        "x, y = 144, 80\n",
        "flood_fill8(img, x, y, green, brown)\n",
        "img"
      ],
      "metadata": {
        "id": "yuq1JOA5Dfls",
        "colab": {
          "base_uri": "https://localhost:8080/",
          "height": 267
        },
        "outputId": "87e93b40-b3e4-4f2c-c6e2-0cd37cd5cc03"
      },
      "execution_count": null,
      "outputs": [
        {
          "output_type": "execute_result",
          "data": {
            "image/png": "[encoded data removed]",
            "text/plain": [
              "<PIL.Image.Image image mode=RGB size=300x250 at 0x7F545ECB8390>"
            ]
          },
          "metadata": {},
          "execution_count": 65
        }
      ]
    },
    {
      "cell_type": "markdown",
      "source": [
        "4. Jelaskan kekurangan algoritma yang terdapat pada poin 3 (a), (b) dan (c) diatas!\n",
        "\n",
        " "
      ],
      "metadata": {
        "id": "0fPpio91D3Cr"
      }
    },
    {
      "cell_type": "markdown",
      "source": [
        "Jawab: <br>\n",
        "Kelemahan-kelemahan algoritma dari nomer 3: <br>\n",
        "a. **Scan Line Algorithm**: memerlukan biaya tinggi (big cost) karena pada setiap sisi polygon selalu dilakukan pengujian terhadap piksel-piksel <br>\n",
        "b. **Boundary Fill Algorithm**: cukup rumit karena harus memperhatikan setiap titik potong poligon<br>\n",
        "c. **Flood Fill Algorithm**: penerapan pada sistem grafis komputer lama atau kuno, masih menggunakan queue untuk mengecek pikesl tepi, serta menggunakan stack"
      ],
      "metadata": {
        "id": "VfUZENf5JKJb"
      }
    }
  ]
}